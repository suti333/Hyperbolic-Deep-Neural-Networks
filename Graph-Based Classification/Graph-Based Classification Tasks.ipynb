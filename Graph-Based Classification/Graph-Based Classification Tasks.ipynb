{
 "cells": [
  {
   "cell_type": "code",
   "execution_count": 161,
   "metadata": {},
   "outputs": [],
   "source": [
    "import torch\n",
    "import torch.nn as nn\n",
    "from torch_geometric.datasets import TUDataset\n",
    "from torch_geometric.data import DataLoader\n",
    "import torch_geometric.transforms as T\n",
    "from torch_geometric.nn import MessagePassing, global_max_pool\n",
    "from torch_geometric.utils import add_self_loops, degree\n",
    "import torch.nn.functional as F\n",
    "import geoopt\n",
    "from sklearn.metrics import confusion_matrix, classification_report\n",
    "import seaborn as sns\n",
    "import matplotlib.pyplot as plt"
   ]
  },
  {
   "cell_type": "code",
   "execution_count": 162,
   "metadata": {},
   "outputs": [],
   "source": [
    "from manifolds import PoincareBall\n",
    "from utils import tanh, artanh"
   ]
  },
  {
   "cell_type": "code",
   "execution_count": 163,
   "metadata": {},
   "outputs": [
    {
     "data": {
      "text/plain": [
       "PROTEINS(1113)"
      ]
     },
     "execution_count": 163,
     "metadata": {},
     "output_type": "execute_result"
    }
   ],
   "source": [
    "dataset = TUDataset(root='data/TUDataset', name='PROTEINS', transform=T.NormalizeFeatures())\n",
    "dataset"
   ]
  },
  {
   "cell_type": "code",
   "execution_count": 164,
   "metadata": {},
   "outputs": [
    {
     "name": "stdout",
     "output_type": "stream",
     "text": [
      "Number of enzymes: 450\n",
      "Number of non-enzymes: 663\n"
     ]
    }
   ],
   "source": [
    "from collections import Counter\n",
    "\n",
    "labels = [data.y.item() for data in dataset]\n",
    "class_counts = Counter(labels)\n",
    "\n",
    "print(f\"Number of enzymes: {class_counts[1]}\")\n",
    "print(f\"Number of non-enzymes: {class_counts[0]}\")"
   ]
  },
  {
   "cell_type": "code",
   "execution_count": 165,
   "metadata": {},
   "outputs": [],
   "source": [
    "train_size = int(0.8 * len(dataset))\n",
    "val_size = int(0.1 * len(dataset))\n",
    "test_size = len(dataset) - train_size - val_size\n",
    "train_dataset, val_dataset, test_dataset = torch.utils.data.random_split(dataset, [train_size, val_size, test_size])"
   ]
  },
  {
   "cell_type": "code",
   "execution_count": 166,
   "metadata": {},
   "outputs": [
    {
     "name": "stderr",
     "output_type": "stream",
     "text": [
      "C:\\Users\\sutig\\AppData\\Local\\Programs\\Python\\Python310\\lib\\site-packages\\torch_geometric\\deprecation.py:26: UserWarning: 'data.DataLoader' is deprecated, use 'loader.DataLoader' instead\n",
      "  warnings.warn(out)\n"
     ]
    }
   ],
   "source": [
    "batch_size = 512\n",
    "train_loader = DataLoader(train_dataset, batch_size=batch_size, shuffle=True)\n",
    "val_loader = DataLoader(val_dataset, batch_size=batch_size, shuffle=False)\n",
    "test_loader = DataLoader(test_dataset, batch_size=batch_size, shuffle=False)"
   ]
  },
  {
   "cell_type": "code",
   "execution_count": 167,
   "metadata": {},
   "outputs": [
    {
     "name": "stdout",
     "output_type": "stream",
     "text": [
      "Number of features: 3 \n",
      "Number of classes: 2\n"
     ]
    }
   ],
   "source": [
    "num_features = dataset.num_features\n",
    "num_classes = dataset.num_classes\n",
    "print(f\"Number of features: {num_features} \\nNumber of classes: {num_classes}\")"
   ]
  },
  {
   "cell_type": "code",
   "execution_count": 168,
   "metadata": {},
   "outputs": [],
   "source": [
    "hyperbolic_model = PoincareBall(dimension=3)"
   ]
  },
  {
   "cell_type": "code",
   "execution_count": 169,
   "metadata": {},
   "outputs": [],
   "source": [
    "class HyperbolicReLU(nn.Module):\n",
    "    def __init__(self, hyperbolic_model):\n",
    "        super(HyperbolicReLU, self).__init__()\n",
    "        self.hyperbolic_model = hyperbolic_model\n",
    "        \n",
    "    def forward(self, x):\n",
    "        x = self.hyperbolic_model.log_map0(x)\n",
    "        x = F.relu(x)\n",
    "        x = self.hyperbolic_model.exp_map0(x)\n",
    "        return x"
   ]
  },
  {
   "cell_type": "code",
   "execution_count": 170,
   "metadata": {},
   "outputs": [],
   "source": [
    "class HyperbolicLayerNorm(nn.Module):\n",
    "    def __init__(self, num_features, hyperbolic_model):\n",
    "        super(HyperbolicLayerNorm, self).__init__()\n",
    "        self.hyperbolic_model = hyperbolic_model\n",
    "        self.norm = nn.LayerNorm(num_features)\n",
    "\n",
    "    def forward(self, x):\n",
    "        x = self.hyperbolic_model.log_map0(x)\n",
    "        x = self.norm(x)\n",
    "        x = self.hyperbolic_model.exp_map0(x)\n",
    "        return x"
   ]
  },
  {
   "cell_type": "code",
   "execution_count": 171,
   "metadata": {},
   "outputs": [],
   "source": [
    "class HyperbolicGCNLayer(MessagePassing):\n",
    "    def __init__(self, in_channels, out_channels, hyperbolic_model):\n",
    "        super(HyperbolicGCNLayer, self).__init__(aggr='add')\n",
    "        self.hyperbolic_model = hyperbolic_model\n",
    "        self.weight = nn.Parameter(torch.Tensor(in_channels, out_channels))\n",
    "        self.bias = nn.Parameter(torch.Tensor(out_channels))\n",
    "        self.ln = HyperbolicLayerNorm(out_channels, hyperbolic_model)\n",
    "        self.reset_parameters()\n",
    "\n",
    "    def reset_parameters(self):\n",
    "        nn.init.xavier_uniform_(self.weight)\n",
    "        nn.init.zeros_(self.bias)\n",
    "        \n",
    "    def forward(self, x, edge_index):\n",
    "        edge_index, _ = add_self_loops(edge_index, num_nodes=x.size(0))\n",
    "\n",
    "        row, col = edge_index\n",
    "        deg = degree(row, x.size(0), dtype=x.dtype)\n",
    "        deg_inv_sqrt = deg.pow(-0.5)\n",
    "        deg_inv_sqrt[deg_inv_sqrt == float('inf')] = 0\n",
    "        norm = deg_inv_sqrt[row] * deg_inv_sqrt[col]\n",
    "\n",
    "        x = self.hyperbolic_model.mobius_matrix_vector_mul(self.weight, x)\n",
    "        x = self.propagate(edge_index, x=x, norm=norm)\n",
    "        return x\n",
    "\n",
    "    def message(self, x_j, norm):\n",
    "         return norm.view(-1, 1) * x_j\n",
    "\n",
    "    def update(self, aggr_out):\n",
    "        aggr_out = self.hyperbolic_model.mobius_add(aggr_out, self.bias)\n",
    "        aggr_out = self.ln(aggr_out)\n",
    "        aggr_out = tanh(aggr_out)\n",
    "        return self.hyperbolic_model.project(aggr_out)\n"
   ]
  },
  {
   "cell_type": "code",
   "execution_count": 172,
   "metadata": {},
   "outputs": [],
   "source": [
    "class HyperbolicGCN(nn.Module):\n",
    "    def __init__(self, in_channels, hidden_channels, out_channels):\n",
    "        super(HyperbolicGCN, self).__init__()\n",
    "        self.conv1 = HyperbolicGCNLayer(in_channels, hidden_channels, hyperbolic_model)\n",
    "        self.conv2 = HyperbolicGCNLayer(hidden_channels, hidden_channels, hyperbolic_model)\n",
    "        self.conv3 = HyperbolicGCNLayer(hidden_channels, hidden_channels, hyperbolic_model)\n",
    "        self.conv4 = HyperbolicGCNLayer(hidden_channels, hidden_channels, hyperbolic_model)\n",
    "        self.conv5 = HyperbolicGCNLayer(hidden_channels, hidden_channels, hyperbolic_model)\n",
    "        self.relu = HyperbolicReLU(hyperbolic_model)\n",
    "        self.global_pool = global_max_pool\n",
    "        self.fc1 = nn.Linear(hidden_channels, hidden_channels // 2)\n",
    "        self.fc2 = nn.Linear(hidden_channels // 2, out_channels)\n",
    "        self.dropout = nn.Dropout(p=0.2)\n",
    "\n",
    "    def forward(self, data):\n",
    "        x, edge_index, batch = data.x, data.edge_index, data.batch\n",
    "        x = self.conv1(x, edge_index)\n",
    "        x = self.conv2(x, edge_index)\n",
    "        x = self.conv3(x, edge_index)\n",
    "        x = self.conv4(x, edge_index)\n",
    "        x = self.conv5(x, edge_index)\n",
    "        x = self.global_pool(x, batch)\n",
    "        x = F.relu(self.fc1(x))\n",
    "        x = self.dropout(x)\n",
    "        x = self.fc2(x)\n",
    "        x = F.log_softmax(x, dim=-1)\n",
    "        return x"
   ]
  },
  {
   "cell_type": "code",
   "execution_count": 173,
   "metadata": {},
   "outputs": [
    {
     "name": "stdout",
     "output_type": "stream",
     "text": [
      "Epoch 1: Loss: 0.6758, Train Acc: 0.5933, Val Acc: 0.5946\n",
      "Epoch 2: Loss: 0.6653, Train Acc: 0.5933, Val Acc: 0.5946\n",
      "Epoch 3: Loss: 0.6489, Train Acc: 0.5933, Val Acc: 0.5946\n",
      "Epoch 4: Loss: 0.6299, Train Acc: 0.5933, Val Acc: 0.5946\n",
      "Epoch 5: Loss: 0.6159, Train Acc: 0.5933, Val Acc: 0.5946\n",
      "Epoch 6: Loss: 0.6020, Train Acc: 0.6809, Val Acc: 0.6216\n",
      "Epoch 7: Loss: 0.5954, Train Acc: 0.7449, Val Acc: 0.6757\n",
      "Epoch 8: Loss: 0.5841, Train Acc: 0.7438, Val Acc: 0.6937\n",
      "Epoch 9: Loss: 0.5734, Train Acc: 0.7494, Val Acc: 0.6847\n",
      "Epoch 10: Loss: 0.5701, Train Acc: 0.7506, Val Acc: 0.6847\n",
      "Epoch 11: Loss: 0.5695, Train Acc: 0.7506, Val Acc: 0.6847\n",
      "Epoch 12: Loss: 0.5570, Train Acc: 0.7416, Val Acc: 0.7207\n",
      "Epoch 13: Loss: 0.5562, Train Acc: 0.7461, Val Acc: 0.7207\n",
      "Epoch 14: Loss: 0.5496, Train Acc: 0.7506, Val Acc: 0.6937\n",
      "Epoch 15: Loss: 0.5445, Train Acc: 0.7506, Val Acc: 0.7117\n",
      "Epoch 16: Loss: 0.5492, Train Acc: 0.7449, Val Acc: 0.7297\n",
      "Epoch 17: Loss: 0.5399, Train Acc: 0.7494, Val Acc: 0.7027\n",
      "Epoch 18: Loss: 0.5460, Train Acc: 0.7472, Val Acc: 0.6937\n",
      "Epoch 19: Loss: 0.5501, Train Acc: 0.7427, Val Acc: 0.7297\n",
      "Epoch 20: Loss: 0.5466, Train Acc: 0.7461, Val Acc: 0.7297\n",
      "Epoch 21: Loss: 0.5345, Train Acc: 0.7528, Val Acc: 0.7027\n",
      "Epoch 22: Loss: 0.5368, Train Acc: 0.7494, Val Acc: 0.6937\n",
      "Epoch 23: Loss: 0.5267, Train Acc: 0.7528, Val Acc: 0.7207\n",
      "Epoch 24: Loss: 0.5399, Train Acc: 0.7506, Val Acc: 0.7207\n",
      "Epoch 25: Loss: 0.5345, Train Acc: 0.7506, Val Acc: 0.7207\n",
      "Epoch 26: Loss: 0.5299, Train Acc: 0.7539, Val Acc: 0.7207\n",
      "Epoch 27: Loss: 0.5367, Train Acc: 0.7517, Val Acc: 0.7207\n",
      "Epoch 28: Loss: 0.5293, Train Acc: 0.7539, Val Acc: 0.7207\n",
      "Epoch 29: Loss: 0.5282, Train Acc: 0.7528, Val Acc: 0.7207\n",
      "Epoch 30: Loss: 0.5217, Train Acc: 0.7551, Val Acc: 0.7207\n",
      "Epoch 31: Loss: 0.5268, Train Acc: 0.7551, Val Acc: 0.7207\n",
      "Epoch 32: Loss: 0.5229, Train Acc: 0.7551, Val Acc: 0.7207\n",
      "Epoch 33: Loss: 0.5194, Train Acc: 0.7539, Val Acc: 0.7207\n",
      "Epoch 34: Loss: 0.5271, Train Acc: 0.7539, Val Acc: 0.7207\n",
      "Epoch 35: Loss: 0.5169, Train Acc: 0.7573, Val Acc: 0.7207\n",
      "Epoch 36: Loss: 0.5211, Train Acc: 0.7584, Val Acc: 0.6847\n",
      "Epoch 37: Loss: 0.5154, Train Acc: 0.7539, Val Acc: 0.6847\n",
      "Epoch 38: Loss: 0.5194, Train Acc: 0.7584, Val Acc: 0.7207\n",
      "Epoch 39: Loss: 0.5169, Train Acc: 0.7573, Val Acc: 0.7297\n",
      "Epoch 40: Loss: 0.5110, Train Acc: 0.7517, Val Acc: 0.7207\n",
      "Epoch 41: Loss: 0.5053, Train Acc: 0.7573, Val Acc: 0.7117\n",
      "Epoch 42: Loss: 0.5102, Train Acc: 0.7584, Val Acc: 0.7297\n",
      "Epoch 43: Loss: 0.5141, Train Acc: 0.7551, Val Acc: 0.7297\n",
      "Epoch 44: Loss: 0.5111, Train Acc: 0.7596, Val Acc: 0.7207\n",
      "Epoch 45: Loss: 0.5112, Train Acc: 0.7596, Val Acc: 0.7207\n",
      "Epoch 46: Loss: 0.5168, Train Acc: 0.7494, Val Acc: 0.7027\n",
      "Epoch 47: Loss: 0.5095, Train Acc: 0.7607, Val Acc: 0.7207\n",
      "Epoch 48: Loss: 0.5082, Train Acc: 0.7506, Val Acc: 0.7207\n",
      "Epoch 49: Loss: 0.5016, Train Acc: 0.7551, Val Acc: 0.6937\n",
      "Epoch 50: Loss: 0.5109, Train Acc: 0.7584, Val Acc: 0.7297\n"
     ]
    }
   ],
   "source": [
    "device = torch.device('cuda' if torch.cuda.is_available() else 'cpu')\n",
    "\n",
    "model = HyperbolicGCN(in_channels=num_features, hidden_channels=128, out_channels=num_classes).to(device)\n",
    "optimizer = geoopt.optim.RiemannianAdam(model.parameters(), lr=2e-3, weight_decay=1e-4)\n",
    "criterion = nn.CrossEntropyLoss()\n",
    "\n",
    "def train():\n",
    "    model.train()\n",
    "    total_loss = 0\n",
    "    for data in train_loader:\n",
    "        data = data.to(device)\n",
    "        optimizer.zero_grad()\n",
    "        output = model(data)\n",
    "        loss = criterion(output, data.y)\n",
    "        loss.backward()\n",
    "        optimizer.step()\n",
    "        total_loss += loss.item()\n",
    "    return total_loss / len(train_loader)\n",
    "\n",
    "def evaluate(loader):\n",
    "    model.eval()\n",
    "    correct = 0\n",
    "    all_preds = []\n",
    "    all_labels = []\n",
    "    for data in loader:\n",
    "        data = data.to(device)\n",
    "        output = model(data)\n",
    "        pred = output.argmax(dim=1)\n",
    "        correct += pred.eq(data.y).sum().item()\n",
    "        all_preds.extend(pred.cpu().numpy())\n",
    "        all_labels.extend(data.y.cpu().numpy())\n",
    "    return correct / len(loader.dataset), all_preds, all_labels\n",
    "\n",
    "best_val_acc = 0.0\n",
    "best_model_path = 'best_hyperbolic_gcn.pth'\n",
    "for epoch in range(50):\n",
    "    loss = train()\n",
    "    train_acc, _, _ = evaluate(train_loader)\n",
    "    val_acc, _, _ = evaluate(val_loader)\n",
    "    print(f\"Epoch {epoch+1}: Loss: {loss:.4f}, Train Acc: {train_acc:.4f}, Val Acc: {val_acc:.4f}\")\n",
    "    \n",
    "    # Save best model based on validation accuracy\n",
    "    if val_acc > best_val_acc:\n",
    "        best_val_acc = val_acc\n",
    "        torch.save(model.state_dict(), best_model_path)\n",
    "        "
   ]
  },
  {
   "cell_type": "code",
   "execution_count": 174,
   "metadata": {},
   "outputs": [
    {
     "name": "stdout",
     "output_type": "stream",
     "text": [
      "Test Accuracy: 79.46%\n"
     ]
    }
   ],
   "source": [
    "test_model = HyperbolicGCN(in_channels=num_features, hidden_channels=128, out_channels=num_classes).to(device)\n",
    "test_model.load_state_dict(torch.load(best_model_path))\n",
    "test_acc, test_preds, test_labels = evaluate(test_loader)\n",
    "print(f\"Test Accuracy: {test_acc * 100:.2f}%\")"
   ]
  },
  {
   "cell_type": "code",
   "execution_count": 175,
   "metadata": {},
   "outputs": [
    {
     "data": {
      "image/png": "[encoded data removed]",
      "text/plain": [
       "<Figure size 800x600 with 2 Axes>"
      ]
     },
     "metadata": {},
     "output_type": "display_data"
    }
   ],
   "source": [
    "cm = confusion_matrix(test_labels, test_preds, normalize='true')\n",
    "plt.figure(figsize=(8, 6))\n",
    "sns.heatmap(cm, annot=True, fmt='.2f', cmap='Blues', xticklabels=['Non-Enzyme', 'Enzyme'], yticklabels=['Non-Enzyme', 'Enzyme'])\n",
    "plt.xlabel(\"Predicted\")\n",
    "plt.ylabel(\"Actual\")\n",
    "plt.title(\"Normalized Confusion Matrix\")\n",
    "plt.show()"
   ]
  },
  {
   "cell_type": "code",
   "execution_count": 176,
   "metadata": {},
   "outputs": [
    {
     "name": "stdout",
     "output_type": "stream",
     "text": [
      "Classification Report:\n",
      "              precision    recall  f1-score   support\n",
      "\n",
      "           0       0.82      0.86      0.84        69\n",
      "           1       0.75      0.70      0.72        43\n",
      "\n",
      "    accuracy                           0.79       112\n",
      "   macro avg       0.78      0.78      0.78       112\n",
      "weighted avg       0.79      0.79      0.79       112\n",
      "\n"
     ]
    }
   ],
   "source": [
    "print(\"Classification Report:\")\n",
    "print(classification_report(test_labels, test_preds))"
   ]
  },
  {
   "cell_type": "code",
   "execution_count": null,
   "metadata": {},
   "outputs": [],
   "source": []
  },
  {
   "cell_type": "code",
   "execution_count": null,
   "metadata": {},
   "outputs": [],
   "source": []
  }
 ],
 "metadata": {
  "kernelspec": {
   "display_name": "Python 3 (ipykernel)",
   "language": "python",
   "name": "python3"
  },
  "language_info": {
   "codemirror_mode": {
    "name": "ipython",
    "version": 3
   },
   "file_extension": ".py",
   "mimetype": "text/x-python",
   "name": "python",
   "nbconvert_exporter": "python",
   "pygments_lexer": "ipython3",
   "version": "3.10.10"
  }
 },
 "nbformat": 4,
 "nbformat_minor": 4
}
